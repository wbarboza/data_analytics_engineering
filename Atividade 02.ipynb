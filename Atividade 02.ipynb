{
 "cells": [
  {
   "cell_type": "markdown",
   "id": "23138ed9",
   "metadata": {},
   "source": [
    "## Atividade 02"
   ]
  },
  {
   "attachments": {},
   "cell_type": "markdown",
   "id": "45192bd8",
   "metadata": {},
   "source": [
    "# Exercícios"
   ]
  },
  {
   "cell_type": "markdown",
   "id": "cbcef764",
   "metadata": {},
   "source": [
    "Vamos praticar a criação de várias expectativas para um dataset público. \n",
    "Para isso, vamos utilizar o dataset Titanic disponível no Kaggle. \n",
    "Este dataset contém informações sobre os passageiros do navio Titanic, incluindo informações como nome, idade, sexo, classe da cabine e se sobreviveram ou não ao naufrágio."
   ]
  },
  {
   "cell_type": "markdown",
   "id": "2faaaa42",
   "metadata": {},
   "source": [
    "### 1. Importando os dados"
   ]
  },
  {
   "cell_type": "markdown",
   "id": "b834df98",
   "metadata": {},
   "source": [
    "1.1 Crie um objeto DataContext"
   ]
  },
  {
   "cell_type": "code",
   "execution_count": null,
   "id": "b7f5c970",
   "metadata": {},
   "outputs": [],
   "source": [
    "#Instalar a biblioteca para trabalhar com arquivo excel (xlsx) se ja estiver essa biblioteca instalada, nao \n",
    "#executar esta etapa\n",
    "!pip install great_expectations==0.16.3"
   ]
  },
  {
   "cell_type": "code",
   "execution_count": 126,
   "id": "a4e57fed",
   "metadata": {},
   "outputs": [
    {
     "data": {
      "text/plain": [
       "{\n",
       "  \"anonymous_usage_statistics\": {\n",
       "    \"explicit_url\": false,\n",
       "    \"data_context_id\": \"d4300bfc-16f0-4882-a2fb-607fa126bba5\",\n",
       "    \"enabled\": true,\n",
       "    \"usage_statistics_url\": \"https://stats.greatexpectations.io/great_expectations/v1/usage_statistics\",\n",
       "    \"explicit_id\": true\n",
       "  },\n",
       "  \"checkpoint_store_name\": \"checkpoint_store\",\n",
       "  \"config_variables_file_path\": \"uncommitted/config_variables.yml\",\n",
       "  \"config_version\": 3.0,\n",
       "  \"data_docs_sites\": {\n",
       "    \"local_site\": {\n",
       "      \"class_name\": \"SiteBuilder\",\n",
       "      \"show_how_to_buttons\": true,\n",
       "      \"store_backend\": {\n",
       "        \"class_name\": \"TupleFilesystemStoreBackend\",\n",
       "        \"base_directory\": \"uncommitted\\\\data_docs\\\\local_site\"\n",
       "      },\n",
       "      \"site_index_builder\": {\n",
       "        \"class_name\": \"DefaultSiteIndexBuilder\"\n",
       "      }\n",
       "    }\n",
       "  },\n",
       "  \"datasources\": {},\n",
       "  \"evaluation_parameter_store_name\": \"evaluation_parameter_store\",\n",
       "  \"expectations_store_name\": \"expectations_store\",\n",
       "  \"include_rendered_content\": {\n",
       "    \"globally\": false,\n",
       "    \"expectation_validation_result\": false,\n",
       "    \"expectation_suite\": false\n",
       "  },\n",
       "  \"plugins_directory\": \"plugins/\",\n",
       "  \"stores\": {\n",
       "    \"expectations_store\": {\n",
       "      \"class_name\": \"ExpectationsStore\",\n",
       "      \"store_backend\": {\n",
       "        \"class_name\": \"TupleFilesystemStoreBackend\",\n",
       "        \"base_directory\": \"expectations/\"\n",
       "      }\n",
       "    },\n",
       "    \"validations_store\": {\n",
       "      \"class_name\": \"ValidationsStore\",\n",
       "      \"store_backend\": {\n",
       "        \"class_name\": \"TupleFilesystemStoreBackend\",\n",
       "        \"base_directory\": \"uncommitted/validations/\"\n",
       "      }\n",
       "    },\n",
       "    \"evaluation_parameter_store\": {\n",
       "      \"class_name\": \"EvaluationParameterStore\"\n",
       "    },\n",
       "    \"checkpoint_store\": {\n",
       "      \"class_name\": \"CheckpointStore\",\n",
       "      \"store_backend\": {\n",
       "        \"class_name\": \"TupleFilesystemStoreBackend\",\n",
       "        \"suppress_store_backend_id\": true,\n",
       "        \"base_directory\": \"checkpoints/\"\n",
       "      }\n",
       "    },\n",
       "    \"profiler_store\": {\n",
       "      \"class_name\": \"ProfilerStore\",\n",
       "      \"store_backend\": {\n",
       "        \"class_name\": \"TupleFilesystemStoreBackend\",\n",
       "        \"suppress_store_backend_id\": true,\n",
       "        \"base_directory\": \"profilers/\"\n",
       "      }\n",
       "    }\n",
       "  },\n",
       "  \"validations_store_name\": \"validations_store\"\n",
       "}"
      ]
     },
     "execution_count": 126,
     "metadata": {},
     "output_type": "execute_result"
    }
   ],
   "source": [
    "#Import bibliotecas para o exercicio\n",
    "import great_expectations as gx\n",
    "import pandas as pd\n",
    "\n",
    "#Criando contexto\n",
    "context =  gx.get_context()\n",
    "context"
   ]
  },
  {
   "attachments": {},
   "cell_type": "markdown",
   "id": "c76e8eed",
   "metadata": {},
   "source": [
    "1.2 Crie um validator e carregue o dataset Titanic: https://storage.googleapis.com/tf-datasets/titanic/train.csv"
   ]
  },
  {
   "cell_type": "code",
   "execution_count": 127,
   "id": "db661ca3",
   "metadata": {},
   "outputs": [
    {
     "data": {
      "application/vnd.jupyter.widget-view+json": {
       "model_id": "23980c44d1644db6a8411c0ebd1f4ee4",
       "version_major": 2,
       "version_minor": 0
      },
      "text/plain": [
       "Calculating Metrics:   0%|          | 0/1 [00:00<?, ?it/s]"
      ]
     },
     "metadata": {},
     "output_type": "display_data"
    },
    {
     "data": {
      "text/html": [
       "<div>\n",
       "<style scoped>\n",
       "    .dataframe tbody tr th:only-of-type {\n",
       "        vertical-align: middle;\n",
       "    }\n",
       "\n",
       "    .dataframe tbody tr th {\n",
       "        vertical-align: top;\n",
       "    }\n",
       "\n",
       "    .dataframe thead th {\n",
       "        text-align: right;\n",
       "    }\n",
       "</style>\n",
       "<table border=\"1\" class=\"dataframe\">\n",
       "  <thead>\n",
       "    <tr style=\"text-align: right;\">\n",
       "      <th></th>\n",
       "      <th>Passengerid</th>\n",
       "      <th>Age</th>\n",
       "      <th>Fare</th>\n",
       "      <th>Sex</th>\n",
       "      <th>sibsp</th>\n",
       "      <th>zero</th>\n",
       "      <th>zero.1</th>\n",
       "      <th>zero.2</th>\n",
       "      <th>zero.3</th>\n",
       "      <th>zero.4</th>\n",
       "      <th>...</th>\n",
       "      <th>zero.12</th>\n",
       "      <th>zero.13</th>\n",
       "      <th>zero.14</th>\n",
       "      <th>Pclass</th>\n",
       "      <th>zero.15</th>\n",
       "      <th>zero.16</th>\n",
       "      <th>Embarked</th>\n",
       "      <th>zero.17</th>\n",
       "      <th>zero.18</th>\n",
       "      <th>2urvived</th>\n",
       "    </tr>\n",
       "  </thead>\n",
       "  <tbody>\n",
       "    <tr>\n",
       "      <th>0</th>\n",
       "      <td>1</td>\n",
       "      <td>22.0</td>\n",
       "      <td>7.2500</td>\n",
       "      <td>0</td>\n",
       "      <td>1</td>\n",
       "      <td>0</td>\n",
       "      <td>0</td>\n",
       "      <td>0</td>\n",
       "      <td>0</td>\n",
       "      <td>0</td>\n",
       "      <td>...</td>\n",
       "      <td>0</td>\n",
       "      <td>0</td>\n",
       "      <td>0</td>\n",
       "      <td>3</td>\n",
       "      <td>0</td>\n",
       "      <td>0</td>\n",
       "      <td>2.0</td>\n",
       "      <td>0</td>\n",
       "      <td>0</td>\n",
       "      <td>0</td>\n",
       "    </tr>\n",
       "    <tr>\n",
       "      <th>1</th>\n",
       "      <td>2</td>\n",
       "      <td>38.0</td>\n",
       "      <td>71.2833</td>\n",
       "      <td>1</td>\n",
       "      <td>1</td>\n",
       "      <td>0</td>\n",
       "      <td>0</td>\n",
       "      <td>0</td>\n",
       "      <td>0</td>\n",
       "      <td>0</td>\n",
       "      <td>...</td>\n",
       "      <td>0</td>\n",
       "      <td>0</td>\n",
       "      <td>0</td>\n",
       "      <td>1</td>\n",
       "      <td>0</td>\n",
       "      <td>0</td>\n",
       "      <td>0.0</td>\n",
       "      <td>0</td>\n",
       "      <td>0</td>\n",
       "      <td>1</td>\n",
       "    </tr>\n",
       "    <tr>\n",
       "      <th>2</th>\n",
       "      <td>3</td>\n",
       "      <td>26.0</td>\n",
       "      <td>7.9250</td>\n",
       "      <td>1</td>\n",
       "      <td>0</td>\n",
       "      <td>0</td>\n",
       "      <td>0</td>\n",
       "      <td>0</td>\n",
       "      <td>0</td>\n",
       "      <td>0</td>\n",
       "      <td>...</td>\n",
       "      <td>0</td>\n",
       "      <td>0</td>\n",
       "      <td>0</td>\n",
       "      <td>3</td>\n",
       "      <td>0</td>\n",
       "      <td>0</td>\n",
       "      <td>2.0</td>\n",
       "      <td>0</td>\n",
       "      <td>0</td>\n",
       "      <td>1</td>\n",
       "    </tr>\n",
       "    <tr>\n",
       "      <th>3</th>\n",
       "      <td>4</td>\n",
       "      <td>35.0</td>\n",
       "      <td>53.1000</td>\n",
       "      <td>1</td>\n",
       "      <td>1</td>\n",
       "      <td>0</td>\n",
       "      <td>0</td>\n",
       "      <td>0</td>\n",
       "      <td>0</td>\n",
       "      <td>0</td>\n",
       "      <td>...</td>\n",
       "      <td>0</td>\n",
       "      <td>0</td>\n",
       "      <td>0</td>\n",
       "      <td>1</td>\n",
       "      <td>0</td>\n",
       "      <td>0</td>\n",
       "      <td>2.0</td>\n",
       "      <td>0</td>\n",
       "      <td>0</td>\n",
       "      <td>1</td>\n",
       "    </tr>\n",
       "    <tr>\n",
       "      <th>4</th>\n",
       "      <td>5</td>\n",
       "      <td>35.0</td>\n",
       "      <td>8.0500</td>\n",
       "      <td>0</td>\n",
       "      <td>0</td>\n",
       "      <td>0</td>\n",
       "      <td>0</td>\n",
       "      <td>0</td>\n",
       "      <td>0</td>\n",
       "      <td>0</td>\n",
       "      <td>...</td>\n",
       "      <td>0</td>\n",
       "      <td>0</td>\n",
       "      <td>0</td>\n",
       "      <td>3</td>\n",
       "      <td>0</td>\n",
       "      <td>0</td>\n",
       "      <td>2.0</td>\n",
       "      <td>0</td>\n",
       "      <td>0</td>\n",
       "      <td>0</td>\n",
       "    </tr>\n",
       "  </tbody>\n",
       "</table>\n",
       "<p>5 rows × 28 columns</p>\n",
       "</div>"
      ],
      "text/plain": [
       "   Passengerid   Age     Fare  Sex  sibsp  zero  zero.1  zero.2  zero.3   \n",
       "0            1  22.0   7.2500    0      1     0       0       0       0  \\\n",
       "1            2  38.0  71.2833    1      1     0       0       0       0   \n",
       "2            3  26.0   7.9250    1      0     0       0       0       0   \n",
       "3            4  35.0  53.1000    1      1     0       0       0       0   \n",
       "4            5  35.0   8.0500    0      0     0       0       0       0   \n",
       "\n",
       "   zero.4  ...  zero.12  zero.13  zero.14  Pclass  zero.15  zero.16  Embarked   \n",
       "0       0  ...        0        0        0       3        0        0       2.0  \\\n",
       "1       0  ...        0        0        0       1        0        0       0.0   \n",
       "2       0  ...        0        0        0       3        0        0       2.0   \n",
       "3       0  ...        0        0        0       1        0        0       2.0   \n",
       "4       0  ...        0        0        0       3        0        0       2.0   \n",
       "\n",
       "   zero.17  zero.18  2urvived  \n",
       "0        0        0         0  \n",
       "1        0        0         1  \n",
       "2        0        0         1  \n",
       "3        0        0         1  \n",
       "4        0        0         0  \n",
       "\n",
       "[5 rows x 28 columns]"
      ]
     },
     "execution_count": 127,
     "metadata": {},
     "output_type": "execute_result"
    }
   ],
   "source": [
    "#Validador para receber os dados do csv train_and_test2.csv'\n",
    "validador = context.sources.pandas_default.read_csv('./dados/atividade2/train_and_test2.csv')\n",
    "validador.head()"
   ]
  },
  {
   "cell_type": "code",
   "execution_count": 128,
   "id": "55f4c51e",
   "metadata": {},
   "outputs": [
    {
     "data": {
      "text/html": [
       "<div>\n",
       "<style scoped>\n",
       "    .dataframe tbody tr th:only-of-type {\n",
       "        vertical-align: middle;\n",
       "    }\n",
       "\n",
       "    .dataframe tbody tr th {\n",
       "        vertical-align: top;\n",
       "    }\n",
       "\n",
       "    .dataframe thead th {\n",
       "        text-align: right;\n",
       "    }\n",
       "</style>\n",
       "<table border=\"1\" class=\"dataframe\">\n",
       "  <thead>\n",
       "    <tr style=\"text-align: right;\">\n",
       "      <th></th>\n",
       "      <th>Passengerid</th>\n",
       "      <th>Age</th>\n",
       "      <th>Fare</th>\n",
       "      <th>Sex</th>\n",
       "      <th>sibsp</th>\n",
       "      <th>zero</th>\n",
       "      <th>zero.1</th>\n",
       "      <th>zero.2</th>\n",
       "      <th>zero.3</th>\n",
       "      <th>zero.4</th>\n",
       "      <th>...</th>\n",
       "      <th>zero.12</th>\n",
       "      <th>zero.13</th>\n",
       "      <th>zero.14</th>\n",
       "      <th>Pclass</th>\n",
       "      <th>zero.15</th>\n",
       "      <th>zero.16</th>\n",
       "      <th>Embarked</th>\n",
       "      <th>zero.17</th>\n",
       "      <th>zero.18</th>\n",
       "      <th>2urvived</th>\n",
       "    </tr>\n",
       "  </thead>\n",
       "  <tbody>\n",
       "    <tr>\n",
       "      <th>0</th>\n",
       "      <td>1</td>\n",
       "      <td>22.0</td>\n",
       "      <td>7.2500</td>\n",
       "      <td>0</td>\n",
       "      <td>1</td>\n",
       "      <td>0</td>\n",
       "      <td>0</td>\n",
       "      <td>0</td>\n",
       "      <td>0</td>\n",
       "      <td>0</td>\n",
       "      <td>...</td>\n",
       "      <td>0</td>\n",
       "      <td>0</td>\n",
       "      <td>0</td>\n",
       "      <td>3</td>\n",
       "      <td>0</td>\n",
       "      <td>0</td>\n",
       "      <td>2.0</td>\n",
       "      <td>0</td>\n",
       "      <td>0</td>\n",
       "      <td>0</td>\n",
       "    </tr>\n",
       "    <tr>\n",
       "      <th>1</th>\n",
       "      <td>2</td>\n",
       "      <td>38.0</td>\n",
       "      <td>71.2833</td>\n",
       "      <td>1</td>\n",
       "      <td>1</td>\n",
       "      <td>0</td>\n",
       "      <td>0</td>\n",
       "      <td>0</td>\n",
       "      <td>0</td>\n",
       "      <td>0</td>\n",
       "      <td>...</td>\n",
       "      <td>0</td>\n",
       "      <td>0</td>\n",
       "      <td>0</td>\n",
       "      <td>1</td>\n",
       "      <td>0</td>\n",
       "      <td>0</td>\n",
       "      <td>0.0</td>\n",
       "      <td>0</td>\n",
       "      <td>0</td>\n",
       "      <td>1</td>\n",
       "    </tr>\n",
       "    <tr>\n",
       "      <th>2</th>\n",
       "      <td>3</td>\n",
       "      <td>26.0</td>\n",
       "      <td>7.9250</td>\n",
       "      <td>1</td>\n",
       "      <td>0</td>\n",
       "      <td>0</td>\n",
       "      <td>0</td>\n",
       "      <td>0</td>\n",
       "      <td>0</td>\n",
       "      <td>0</td>\n",
       "      <td>...</td>\n",
       "      <td>0</td>\n",
       "      <td>0</td>\n",
       "      <td>0</td>\n",
       "      <td>3</td>\n",
       "      <td>0</td>\n",
       "      <td>0</td>\n",
       "      <td>2.0</td>\n",
       "      <td>0</td>\n",
       "      <td>0</td>\n",
       "      <td>1</td>\n",
       "    </tr>\n",
       "    <tr>\n",
       "      <th>3</th>\n",
       "      <td>4</td>\n",
       "      <td>35.0</td>\n",
       "      <td>53.1000</td>\n",
       "      <td>1</td>\n",
       "      <td>1</td>\n",
       "      <td>0</td>\n",
       "      <td>0</td>\n",
       "      <td>0</td>\n",
       "      <td>0</td>\n",
       "      <td>0</td>\n",
       "      <td>...</td>\n",
       "      <td>0</td>\n",
       "      <td>0</td>\n",
       "      <td>0</td>\n",
       "      <td>1</td>\n",
       "      <td>0</td>\n",
       "      <td>0</td>\n",
       "      <td>2.0</td>\n",
       "      <td>0</td>\n",
       "      <td>0</td>\n",
       "      <td>1</td>\n",
       "    </tr>\n",
       "    <tr>\n",
       "      <th>4</th>\n",
       "      <td>5</td>\n",
       "      <td>35.0</td>\n",
       "      <td>8.0500</td>\n",
       "      <td>0</td>\n",
       "      <td>0</td>\n",
       "      <td>0</td>\n",
       "      <td>0</td>\n",
       "      <td>0</td>\n",
       "      <td>0</td>\n",
       "      <td>0</td>\n",
       "      <td>...</td>\n",
       "      <td>0</td>\n",
       "      <td>0</td>\n",
       "      <td>0</td>\n",
       "      <td>3</td>\n",
       "      <td>0</td>\n",
       "      <td>0</td>\n",
       "      <td>2.0</td>\n",
       "      <td>0</td>\n",
       "      <td>0</td>\n",
       "      <td>0</td>\n",
       "    </tr>\n",
       "  </tbody>\n",
       "</table>\n",
       "<p>5 rows × 28 columns</p>\n",
       "</div>"
      ],
      "text/plain": [
       "   Passengerid   Age     Fare  Sex  sibsp  zero  zero.1  zero.2  zero.3   \n",
       "0            1  22.0   7.2500    0      1     0       0       0       0  \\\n",
       "1            2  38.0  71.2833    1      1     0       0       0       0   \n",
       "2            3  26.0   7.9250    1      0     0       0       0       0   \n",
       "3            4  35.0  53.1000    1      1     0       0       0       0   \n",
       "4            5  35.0   8.0500    0      0     0       0       0       0   \n",
       "\n",
       "   zero.4  ...  zero.12  zero.13  zero.14  Pclass  zero.15  zero.16  Embarked   \n",
       "0       0  ...        0        0        0       3        0        0       2.0  \\\n",
       "1       0  ...        0        0        0       1        0        0       0.0   \n",
       "2       0  ...        0        0        0       3        0        0       2.0   \n",
       "3       0  ...        0        0        0       1        0        0       2.0   \n",
       "4       0  ...        0        0        0       3        0        0       2.0   \n",
       "\n",
       "   zero.17  zero.18  2urvived  \n",
       "0        0        0         0  \n",
       "1        0        0         1  \n",
       "2        0        0         1  \n",
       "3        0        0         1  \n",
       "4        0        0         0  \n",
       "\n",
       "[5 rows x 28 columns]"
      ]
     },
     "execution_count": 128,
     "metadata": {},
     "output_type": "execute_result"
    }
   ],
   "source": [
    "#carregando os dados do csv para o df titanic'\n",
    "df_titanic = pd.read_csv('./dados/atividade2/train_and_test2.csv')\n",
    "df_titanic.head()"
   ]
  },
  {
   "cell_type": "markdown",
   "id": "d5730ec2",
   "metadata": {},
   "source": [
    "### 2. Definindo expectativas"
   ]
  },
  {
   "cell_type": "markdown",
   "id": "f547f924",
   "metadata": {},
   "source": [
    "Agora que temos o dataframe, podemos começar a criar expectativas sobre os dados. "
   ]
  },
  {
   "cell_type": "markdown",
   "id": "ec091cea",
   "metadata": {},
   "source": [
    "2.1 Crie uma expectativa que defina que as colunas do dataframe estão na ordem correta. "
   ]
  },
  {
   "cell_type": "code",
   "execution_count": 148,
   "id": "2adf5df5",
   "metadata": {},
   "outputs": [
    {
     "data": {
      "text/plain": [
       "['Passengerid',\n",
       " 'Age',\n",
       " 'Fare',\n",
       " 'Sex',\n",
       " 'sibsp',\n",
       " 'zero',\n",
       " 'zero.1',\n",
       " 'zero.2',\n",
       " 'zero.3',\n",
       " 'zero.4',\n",
       " 'zero.5',\n",
       " 'zero.6',\n",
       " 'Parch',\n",
       " 'zero.7',\n",
       " 'zero.8',\n",
       " 'zero.9',\n",
       " 'zero.10',\n",
       " 'zero.11',\n",
       " 'zero.12',\n",
       " 'zero.13',\n",
       " 'zero.14',\n",
       " 'Pclass',\n",
       " 'zero.15',\n",
       " 'zero.16',\n",
       " 'Embarked',\n",
       " 'zero.17',\n",
       " 'zero.18',\n",
       " '2urvived']"
      ]
     },
     "execution_count": 148,
     "metadata": {},
     "output_type": "execute_result"
    }
   ],
   "source": [
    "#listando os nomes das colunas do df titanic\n",
    "list_columns = list(df_titanic.columns)\n",
    "list_columns\n"
   ]
  },
  {
   "cell_type": "code",
   "execution_count": 130,
   "id": "b3ca039a",
   "metadata": {},
   "outputs": [
    {
     "data": {
      "application/vnd.jupyter.widget-view+json": {
       "model_id": "ac1e5ca3780748dcac9030aa85b33d97",
       "version_major": 2,
       "version_minor": 0
      },
      "text/plain": [
       "Calculating Metrics:   0%|          | 0/2 [00:00<?, ?it/s]"
      ]
     },
     "metadata": {},
     "output_type": "display_data"
    },
    {
     "name": "stdout",
     "output_type": "stream",
     "text": [
      "Ordem CORRETA da(s) coluna(s)\n"
     ]
    },
    {
     "data": {
      "text/plain": [
       "{\n",
       "  \"meta\": {},\n",
       "  \"exception_info\": {\n",
       "    \"raised_exception\": false,\n",
       "    \"exception_traceback\": null,\n",
       "    \"exception_message\": null\n",
       "  },\n",
       "  \"result\": {\n",
       "    \"observed_value\": [\n",
       "      \"Passengerid\",\n",
       "      \"Age\",\n",
       "      \"Fare\",\n",
       "      \"Sex\",\n",
       "      \"sibsp\",\n",
       "      \"zero\",\n",
       "      \"zero.1\",\n",
       "      \"zero.2\",\n",
       "      \"zero.3\",\n",
       "      \"zero.4\",\n",
       "      \"zero.5\",\n",
       "      \"zero.6\",\n",
       "      \"Parch\",\n",
       "      \"zero.7\",\n",
       "      \"zero.8\",\n",
       "      \"zero.9\",\n",
       "      \"zero.10\",\n",
       "      \"zero.11\",\n",
       "      \"zero.12\",\n",
       "      \"zero.13\",\n",
       "      \"zero.14\",\n",
       "      \"Pclass\",\n",
       "      \"zero.15\",\n",
       "      \"zero.16\",\n",
       "      \"Embarked\",\n",
       "      \"zero.17\",\n",
       "      \"zero.18\",\n",
       "      \"2urvived\"\n",
       "    ]\n",
       "  },\n",
       "  \"success\": true\n",
       "}"
      ]
     },
     "execution_count": 130,
     "metadata": {},
     "output_type": "execute_result"
    }
   ],
   "source": [
    "#Validar a ordem das colunas\n",
    "validation_result = validador.expect_table_columns_to_match_ordered_list(list_columns)\n",
    "\n",
    "if validation_result['success']:\n",
    "    print('Ordem CORRETA da(s) coluna(s)')\n",
    "else:\n",
    "    print('Ordem ERRADA da(s) coluna(s)')\n",
    "    \n",
    "validation_result    "
   ]
  },
  {
   "cell_type": "markdown",
   "id": "a1c9913c",
   "metadata": {},
   "source": [
    "2.2 Agora crie uma expectativa para verificar se os valores da coluna \"Survived\" só podem ser 0 ou 1. "
   ]
  },
  {
   "cell_type": "code",
   "execution_count": 131,
   "id": "398f2658",
   "metadata": {},
   "outputs": [
    {
     "data": {
      "application/vnd.jupyter.widget-view+json": {
       "model_id": "c137d8a60d9b4a5db1c8535cf029e173",
       "version_major": 2,
       "version_minor": 0
      },
      "text/plain": [
       "Calculating Metrics:   0%|          | 0/8 [00:00<?, ?it/s]"
      ]
     },
     "metadata": {},
     "output_type": "display_data"
    },
    {
     "name": "stdout",
     "output_type": "stream",
     "text": [
      "Valores CORRETOS\n"
     ]
    },
    {
     "data": {
      "text/plain": [
       "{\n",
       "  \"meta\": {},\n",
       "  \"exception_info\": {\n",
       "    \"raised_exception\": false,\n",
       "    \"exception_traceback\": null,\n",
       "    \"exception_message\": null\n",
       "  },\n",
       "  \"result\": {\n",
       "    \"element_count\": 1309,\n",
       "    \"unexpected_count\": 0,\n",
       "    \"unexpected_percent\": 0.0,\n",
       "    \"partial_unexpected_list\": [],\n",
       "    \"missing_count\": 0,\n",
       "    \"missing_percent\": 0.0,\n",
       "    \"unexpected_percent_total\": 0.0,\n",
       "    \"unexpected_percent_nonmissing\": 0.0\n",
       "  },\n",
       "  \"success\": true\n",
       "}"
      ]
     },
     "execution_count": 131,
     "metadata": {},
     "output_type": "execute_result"
    }
   ],
   "source": [
    "#Expectativa e validacao dos voalores da coluna 2urvived\n",
    "validation_result = validador.expect_column_values_to_be_in_set(column='2urvived', value_set=[0,1])\n",
    "\n",
    "if validation_result['success']:\n",
    "    print('Valor(es) CORRETO(S)')\n",
    "else:\n",
    "    print('Valor(es) ERRADO(S)')\n",
    "    \n",
    "validation_result   "
   ]
  },
  {
   "cell_type": "markdown",
   "id": "b54e26a6",
   "metadata": {},
   "source": [
    "2.3 Defina que a coluna \"Pclass\" só pode ter valores de 1 a 3. "
   ]
  },
  {
   "cell_type": "code",
   "execution_count": 132,
   "id": "b3e7c5da",
   "metadata": {},
   "outputs": [
    {
     "data": {
      "application/vnd.jupyter.widget-view+json": {
       "model_id": "a1493cc66d404f1ba89c667b2b078661",
       "version_major": 2,
       "version_minor": 0
      },
      "text/plain": [
       "Calculating Metrics:   0%|          | 0/8 [00:00<?, ?it/s]"
      ]
     },
     "metadata": {},
     "output_type": "display_data"
    },
    {
     "name": "stdout",
     "output_type": "stream",
     "text": [
      "Valores CORRETOS\n"
     ]
    },
    {
     "data": {
      "text/plain": [
       "{\n",
       "  \"meta\": {},\n",
       "  \"exception_info\": {\n",
       "    \"raised_exception\": false,\n",
       "    \"exception_traceback\": null,\n",
       "    \"exception_message\": null\n",
       "  },\n",
       "  \"result\": {\n",
       "    \"element_count\": 1309,\n",
       "    \"unexpected_count\": 0,\n",
       "    \"unexpected_percent\": 0.0,\n",
       "    \"partial_unexpected_list\": [],\n",
       "    \"missing_count\": 0,\n",
       "    \"missing_percent\": 0.0,\n",
       "    \"unexpected_percent_total\": 0.0,\n",
       "    \"unexpected_percent_nonmissing\": 0.0\n",
       "  },\n",
       "  \"success\": true\n",
       "}"
      ]
     },
     "execution_count": 132,
     "metadata": {},
     "output_type": "execute_result"
    }
   ],
   "source": [
    "#Definindo os valores para a coluna Pclass e validando depois\n",
    "validation_result = validador.expect_column_values_to_be_between (column='Pclass', min_value=1, max_value=3)\n",
    "\n",
    "if validation_result['success']:\n",
    "    print('Valor(es) CORRETO(S)')\n",
    "else:\n",
    "    print('Valor(es) ERRADO(S)')\n",
    "    \n",
    "validation_result  "
   ]
  },
  {
   "cell_type": "markdown",
   "id": "76105e56",
   "metadata": {},
   "source": [
    "2.4 Crie expectativas para verificar se as colunas \"Survived\" e \"Pclass\" existem no dataframe."
   ]
  },
  {
   "cell_type": "code",
   "execution_count": 134,
   "id": "62e21ec3",
   "metadata": {},
   "outputs": [
    {
     "data": {
      "application/vnd.jupyter.widget-view+json": {
       "model_id": "86f2081072594d999a014b0651b20ce8",
       "version_major": 2,
       "version_minor": 0
      },
      "text/plain": [
       "Calculating Metrics:   0%|          | 0/2 [00:00<?, ?it/s]"
      ]
     },
     "metadata": {},
     "output_type": "display_data"
    },
    {
     "data": {
      "text/plain": [
       "{\n",
       "  \"meta\": {},\n",
       "  \"exception_info\": {\n",
       "    \"raised_exception\": false,\n",
       "    \"exception_traceback\": null,\n",
       "    \"exception_message\": null\n",
       "  },\n",
       "  \"result\": {},\n",
       "  \"success\": true\n",
       "}"
      ]
     },
     "execution_count": 134,
     "metadata": {},
     "output_type": "execute_result"
    }
   ],
   "source": [
    "#criar expectativa para a coluna 2urvived\n",
    "validador.expect_column_to_exist(column = '2urvived')"
   ]
  },
  {
   "cell_type": "code",
   "execution_count": 135,
   "id": "36a5c4f0",
   "metadata": {},
   "outputs": [
    {
     "data": {
      "application/vnd.jupyter.widget-view+json": {
       "model_id": "24723f5d23dc421c9eaebb34ec293252",
       "version_major": 2,
       "version_minor": 0
      },
      "text/plain": [
       "Calculating Metrics:   0%|          | 0/2 [00:00<?, ?it/s]"
      ]
     },
     "metadata": {},
     "output_type": "display_data"
    },
    {
     "data": {
      "text/plain": [
       "{\n",
       "  \"meta\": {},\n",
       "  \"exception_info\": {\n",
       "    \"raised_exception\": false,\n",
       "    \"exception_traceback\": null,\n",
       "    \"exception_message\": null\n",
       "  },\n",
       "  \"result\": {},\n",
       "  \"success\": true\n",
       "}"
      ]
     },
     "execution_count": 135,
     "metadata": {},
     "output_type": "execute_result"
    }
   ],
   "source": [
    "#criar expectativa para a coluna Pclass\n",
    "validador.expect_column_to_exist(column = 'Pclass')"
   ]
  },
  {
   "cell_type": "code",
   "execution_count": 149,
   "id": "2d7325bc",
   "metadata": {},
   "outputs": [
    {
     "data": {
      "application/vnd.jupyter.widget-view+json": {
       "model_id": "b9117aaa316d42edba02574fbf6a4767",
       "version_major": 2,
       "version_minor": 0
      },
      "text/plain": [
       "Calculating Metrics:   0%|          | 0/2 [00:00<?, ?it/s]"
      ]
     },
     "metadata": {},
     "output_type": "display_data"
    },
    {
     "name": "stdout",
     "output_type": "stream",
     "text": [
      "A(s) coluna(s) existe(m)\n"
     ]
    },
    {
     "data": {
      "text/plain": [
       "{\n",
       "  \"meta\": {},\n",
       "  \"exception_info\": {\n",
       "    \"raised_exception\": false,\n",
       "    \"exception_traceback\": null,\n",
       "    \"exception_message\": null\n",
       "  },\n",
       "  \"result\": {},\n",
       "  \"success\": true\n",
       "}"
      ]
     },
     "execution_count": 149,
     "metadata": {},
     "output_type": "execute_result"
    }
   ],
   "source": [
    "#Valicacoes de existencia das colunas 2urvived e Pclass\n",
    "validation_result = validador.expect_column_to_exist(column='2urvived' and 'Pclass')\n",
    "\n",
    "if validation_result['success']:\n",
    "    print('A(s) coluna(s) existe(m)')\n",
    "else:\n",
    "    print('A(s) coluna(s) não existe(m)')\n",
    "    \n",
    "validation_result"
   ]
  },
  {
   "cell_type": "markdown",
   "id": "ae22121f",
   "metadata": {},
   "source": [
    "2.5 Verifique se os valores das colunas \"Age\" e \"Fare\" não são nulos e se estão dentro de um intervalo razoável (0 a 100 para \"Age\" w 0 a 100 para \"Fare\"."
   ]
  },
  {
   "cell_type": "code",
   "execution_count": 150,
   "id": "9fb7a411",
   "metadata": {},
   "outputs": [
    {
     "data": {
      "application/vnd.jupyter.widget-view+json": {
       "model_id": "c68936aeb97a40be8fb40b4d16608228",
       "version_major": 2,
       "version_minor": 0
      },
      "text/plain": [
       "Calculating Metrics:   0%|          | 0/6 [00:00<?, ?it/s]"
      ]
     },
     "metadata": {},
     "output_type": "display_data"
    },
    {
     "name": "stdout",
     "output_type": "stream",
     "text": [
      "A(s) coluna(s) nao possui(em) valore(es Nulo(s)\n"
     ]
    },
    {
     "data": {
      "text/plain": [
       "{\n",
       "  \"meta\": {},\n",
       "  \"exception_info\": {\n",
       "    \"raised_exception\": false,\n",
       "    \"exception_traceback\": null,\n",
       "    \"exception_message\": null\n",
       "  },\n",
       "  \"result\": {\n",
       "    \"element_count\": 1309,\n",
       "    \"unexpected_count\": 0,\n",
       "    \"unexpected_percent\": 0.0,\n",
       "    \"partial_unexpected_list\": [\n",
       "      \"Age\",\n",
       "      \"Fare\"\n",
       "    ]\n",
       "  },\n",
       "  \"success\": true\n",
       "}"
      ]
     },
     "execution_count": 150,
     "metadata": {},
     "output_type": "execute_result"
    }
   ],
   "source": [
    "#validacoes se os valores nao sao nulos das colunas Age e Fare\n",
    "validation_result = validador.expect_column_values_to_not_be_null(['Age','Fare'])\n",
    "\n",
    "if validation_result['success']:\n",
    "    print('A(s) coluna(s) nao possui(em) valore(es Nulo(s)')\n",
    "else:\n",
    "    print('A(s) coluna(s) possui(em) valore(es Nulo(s)')\n",
    "    \n",
    "validation_result"
   ]
  },
  {
   "cell_type": "code",
   "execution_count": 166,
   "id": "f785cb55",
   "metadata": {},
   "outputs": [
    {
     "data": {
      "application/vnd.jupyter.widget-view+json": {
       "model_id": "b10110b239b346fcb2d35931f5a26e58",
       "version_major": 2,
       "version_minor": 0
      },
      "text/plain": [
       "Calculating Metrics:   0%|          | 0/8 [00:00<?, ?it/s]"
      ]
     },
     "metadata": {},
     "output_type": "display_data"
    },
    {
     "name": "stdout",
     "output_type": "stream",
     "text": [
      "Valore(s) fora do intervalo\n"
     ]
    },
    {
     "data": {
      "text/plain": [
       "{\n",
       "  \"meta\": {},\n",
       "  \"exception_info\": {\n",
       "    \"raised_exception\": false,\n",
       "    \"exception_traceback\": null,\n",
       "    \"exception_message\": null\n",
       "  },\n",
       "  \"result\": {\n",
       "    \"element_count\": 1309,\n",
       "    \"unexpected_count\": 84,\n",
       "    \"unexpected_percent\": 6.417112299465241,\n",
       "    \"partial_unexpected_list\": [\n",
       "      263.0,\n",
       "      146.5208,\n",
       "      263.0,\n",
       "      247.5208,\n",
       "      146.5208,\n",
       "      113.275,\n",
       "      512.3292,\n",
       "      153.4625,\n",
       "      135.6333,\n",
       "      151.55,\n",
       "      247.5208,\n",
       "      151.55,\n",
       "      110.8833,\n",
       "      108.9,\n",
       "      262.375,\n",
       "      164.8667,\n",
       "      134.5,\n",
       "      135.6333,\n",
       "      153.4625,\n",
       "      133.65\n",
       "    ],\n",
       "    \"missing_count\": 0,\n",
       "    \"missing_percent\": 0.0,\n",
       "    \"unexpected_percent_total\": 6.417112299465241,\n",
       "    \"unexpected_percent_nonmissing\": 6.417112299465241\n",
       "  },\n",
       "  \"success\": false\n",
       "}"
      ]
     },
     "execution_count": 166,
     "metadata": {},
     "output_type": "execute_result"
    }
   ],
   "source": [
    "#validacoes se os valores estao entre 0 e 100\n",
    "validation_result = validador.expect_column_values_to_be_between(column = 'Age' and 'Fare', min_value = 0, max_value = 100)\n",
    "\n",
    "if validation_result['success']:\n",
    "    print('Valore(s) dentro do intervalo')\n",
    "else:\n",
    "    print('Valore(s) fora do intervalo')\n",
    "    \n",
    "validation_result"
   ]
  },
  {
   "cell_type": "code",
   "execution_count": 152,
   "id": "0cb67f06",
   "metadata": {},
   "outputs": [
    {
     "data": {
      "application/vnd.jupyter.widget-view+json": {
       "model_id": "daed8b020c954399b9f1406625cb2a25",
       "version_major": 2,
       "version_minor": 0
      },
      "text/plain": [
       "Calculating Metrics:   0%|          | 0/4 [00:00<?, ?it/s]"
      ]
     },
     "metadata": {},
     "output_type": "display_data"
    },
    {
     "name": "stdout",
     "output_type": "stream",
     "text": [
      "A(s) coluna(s) nao possui(em) valore(es Nulo(s)\n"
     ]
    },
    {
     "data": {
      "text/plain": [
       "{\n",
       "  \"meta\": {},\n",
       "  \"exception_info\": {\n",
       "    \"raised_exception\": false,\n",
       "    \"exception_traceback\": null,\n",
       "    \"exception_message\": null\n",
       "  },\n",
       "  \"result\": {\n",
       "    \"observed_value\": 98\n",
       "  },\n",
       "  \"success\": true\n",
       "}"
      ]
     },
     "execution_count": 152,
     "metadata": {},
     "output_type": "execute_result"
    }
   ],
   "source": [
    "#validacoes se os valores nao sao nulos das colunas Age e Fare\n",
    "validation_result=validador.expect_column_unique_value_count_to_be_between(column = 'Age', min_value = 0, max_value = 100)\n",
    "\n",
    "if validation_result['success']:\n",
    "    print('A(s) coluna(s) nao possui(em) valore(es Nulo(s)')\n",
    "else:\n",
    "    print('A(s) coluna(s) possui(em) valore(es Nulo(s)')\n",
    "    \n",
    "validation_result"
   ]
  },
  {
   "cell_type": "markdown",
   "id": "dbe9d33b",
   "metadata": {},
   "source": [
    "2.6 Define que a coluna \"Sex\" só pode ter os valores \"male\" ou \"female\"."
   ]
  },
  {
   "cell_type": "code",
   "execution_count": 169,
   "id": "ae9f94dd",
   "metadata": {},
   "outputs": [
    {
     "data": {
      "application/vnd.jupyter.widget-view+json": {
       "model_id": "8fee33432265402681646ad44f903757",
       "version_major": 2,
       "version_minor": 0
      },
      "text/plain": [
       "Calculating Metrics:   0%|          | 0/8 [00:00<?, ?it/s]"
      ]
     },
     "metadata": {},
     "output_type": "display_data"
    },
    {
     "name": "stdout",
     "output_type": "stream",
     "text": [
      "Os valores estão ERRADOS\n"
     ]
    },
    {
     "data": {
      "text/plain": [
       "{\n",
       "  \"meta\": {},\n",
       "  \"exception_info\": {\n",
       "    \"raised_exception\": false,\n",
       "    \"exception_traceback\": null,\n",
       "    \"exception_message\": null\n",
       "  },\n",
       "  \"result\": {\n",
       "    \"element_count\": 1309,\n",
       "    \"unexpected_count\": 1309,\n",
       "    \"unexpected_percent\": 100.0,\n",
       "    \"partial_unexpected_list\": [\n",
       "      0,\n",
       "      1,\n",
       "      1,\n",
       "      1,\n",
       "      0,\n",
       "      0,\n",
       "      0,\n",
       "      0,\n",
       "      1,\n",
       "      1,\n",
       "      1,\n",
       "      1,\n",
       "      0,\n",
       "      0,\n",
       "      1,\n",
       "      1,\n",
       "      0,\n",
       "      0,\n",
       "      1,\n",
       "      1\n",
       "    ],\n",
       "    \"missing_count\": 0,\n",
       "    \"missing_percent\": 0.0,\n",
       "    \"unexpected_percent_total\": 100.0,\n",
       "    \"unexpected_percent_nonmissing\": 100.0\n",
       "  },\n",
       "  \"success\": false\n",
       "}"
      ]
     },
     "execution_count": 169,
     "metadata": {},
     "output_type": "execute_result"
    }
   ],
   "source": [
    "#Definicao se os valores de sex\n",
    "validation_result = validador.expect_column_values_to_be_in_set(column='Sex', value_set=['male','female'])\n",
    "\n",
    "if validation_result['success']:\n",
    "    print('Valor(es) CORRETO(S)')\n",
    "else:\n",
    "    print('Valor(es) ERRADO(S)')\n",
    "    \n",
    "validation_result    "
   ]
  },
  {
   "cell_type": "code",
   "execution_count": 170,
   "id": "f1040746",
   "metadata": {},
   "outputs": [
    {
     "data": {
      "application/vnd.jupyter.widget-view+json": {
       "model_id": "2e12f02617c14e3c8208aa89e2fb0257",
       "version_major": 2,
       "version_minor": 0
      },
      "text/plain": [
       "Calculating Metrics:   0%|          | 0/4 [00:00<?, ?it/s]"
      ]
     },
     "metadata": {},
     "output_type": "display_data"
    },
    {
     "data": {
      "text/plain": [
       "{\n",
       "  \"meta\": {},\n",
       "  \"exception_info\": {\n",
       "    \"raised_exception\": false,\n",
       "    \"exception_traceback\": null,\n",
       "    \"exception_message\": null\n",
       "  },\n",
       "  \"result\": {\n",
       "    \"observed_value\": [\n",
       "      0\n",
       "    ]\n",
       "  },\n",
       "  \"success\": true\n",
       "}"
      ]
     },
     "execution_count": 170,
     "metadata": {},
     "output_type": "execute_result"
    }
   ],
   "source": [
    "#Validacao valores de sex\n",
    "validador.expect_column_most_common_value_to_be_in_set('Sex', [0, 1])"
   ]
  },
  {
   "cell_type": "code",
   "execution_count": 141,
   "id": "896c2953",
   "metadata": {},
   "outputs": [
    {
     "data": {
      "application/vnd.jupyter.widget-view+json": {
       "model_id": "8370b3882e11481383fb15464b0f5459",
       "version_major": 2,
       "version_minor": 0
      },
      "text/plain": [
       "Calculating Metrics:   0%|          | 0/1 [00:00<?, ?it/s]"
      ]
     },
     "metadata": {},
     "output_type": "display_data"
    },
    {
     "data": {
      "text/html": [
       "<div>\n",
       "<style scoped>\n",
       "    .dataframe tbody tr th:only-of-type {\n",
       "        vertical-align: middle;\n",
       "    }\n",
       "\n",
       "    .dataframe tbody tr th {\n",
       "        vertical-align: top;\n",
       "    }\n",
       "\n",
       "    .dataframe thead th {\n",
       "        text-align: right;\n",
       "    }\n",
       "</style>\n",
       "<table border=\"1\" class=\"dataframe\">\n",
       "  <thead>\n",
       "    <tr style=\"text-align: right;\">\n",
       "      <th></th>\n",
       "      <th>Passengerid</th>\n",
       "      <th>Age</th>\n",
       "      <th>Fare</th>\n",
       "      <th>Sex</th>\n",
       "      <th>sibsp</th>\n",
       "      <th>zero</th>\n",
       "      <th>zero.1</th>\n",
       "      <th>zero.2</th>\n",
       "      <th>zero.3</th>\n",
       "      <th>zero.4</th>\n",
       "      <th>...</th>\n",
       "      <th>zero.12</th>\n",
       "      <th>zero.13</th>\n",
       "      <th>zero.14</th>\n",
       "      <th>Pclass</th>\n",
       "      <th>zero.15</th>\n",
       "      <th>zero.16</th>\n",
       "      <th>Embarked</th>\n",
       "      <th>zero.17</th>\n",
       "      <th>zero.18</th>\n",
       "      <th>2urvived</th>\n",
       "    </tr>\n",
       "  </thead>\n",
       "  <tbody>\n",
       "    <tr>\n",
       "      <th>0</th>\n",
       "      <td>1</td>\n",
       "      <td>22.0</td>\n",
       "      <td>7.2500</td>\n",
       "      <td>0</td>\n",
       "      <td>1</td>\n",
       "      <td>0</td>\n",
       "      <td>0</td>\n",
       "      <td>0</td>\n",
       "      <td>0</td>\n",
       "      <td>0</td>\n",
       "      <td>...</td>\n",
       "      <td>0</td>\n",
       "      <td>0</td>\n",
       "      <td>0</td>\n",
       "      <td>3</td>\n",
       "      <td>0</td>\n",
       "      <td>0</td>\n",
       "      <td>2.0</td>\n",
       "      <td>0</td>\n",
       "      <td>0</td>\n",
       "      <td>0</td>\n",
       "    </tr>\n",
       "    <tr>\n",
       "      <th>1</th>\n",
       "      <td>2</td>\n",
       "      <td>38.0</td>\n",
       "      <td>71.2833</td>\n",
       "      <td>1</td>\n",
       "      <td>1</td>\n",
       "      <td>0</td>\n",
       "      <td>0</td>\n",
       "      <td>0</td>\n",
       "      <td>0</td>\n",
       "      <td>0</td>\n",
       "      <td>...</td>\n",
       "      <td>0</td>\n",
       "      <td>0</td>\n",
       "      <td>0</td>\n",
       "      <td>1</td>\n",
       "      <td>0</td>\n",
       "      <td>0</td>\n",
       "      <td>0.0</td>\n",
       "      <td>0</td>\n",
       "      <td>0</td>\n",
       "      <td>1</td>\n",
       "    </tr>\n",
       "    <tr>\n",
       "      <th>2</th>\n",
       "      <td>3</td>\n",
       "      <td>26.0</td>\n",
       "      <td>7.9250</td>\n",
       "      <td>1</td>\n",
       "      <td>0</td>\n",
       "      <td>0</td>\n",
       "      <td>0</td>\n",
       "      <td>0</td>\n",
       "      <td>0</td>\n",
       "      <td>0</td>\n",
       "      <td>...</td>\n",
       "      <td>0</td>\n",
       "      <td>0</td>\n",
       "      <td>0</td>\n",
       "      <td>3</td>\n",
       "      <td>0</td>\n",
       "      <td>0</td>\n",
       "      <td>2.0</td>\n",
       "      <td>0</td>\n",
       "      <td>0</td>\n",
       "      <td>1</td>\n",
       "    </tr>\n",
       "    <tr>\n",
       "      <th>3</th>\n",
       "      <td>4</td>\n",
       "      <td>35.0</td>\n",
       "      <td>53.1000</td>\n",
       "      <td>1</td>\n",
       "      <td>1</td>\n",
       "      <td>0</td>\n",
       "      <td>0</td>\n",
       "      <td>0</td>\n",
       "      <td>0</td>\n",
       "      <td>0</td>\n",
       "      <td>...</td>\n",
       "      <td>0</td>\n",
       "      <td>0</td>\n",
       "      <td>0</td>\n",
       "      <td>1</td>\n",
       "      <td>0</td>\n",
       "      <td>0</td>\n",
       "      <td>2.0</td>\n",
       "      <td>0</td>\n",
       "      <td>0</td>\n",
       "      <td>1</td>\n",
       "    </tr>\n",
       "    <tr>\n",
       "      <th>4</th>\n",
       "      <td>5</td>\n",
       "      <td>35.0</td>\n",
       "      <td>8.0500</td>\n",
       "      <td>0</td>\n",
       "      <td>0</td>\n",
       "      <td>0</td>\n",
       "      <td>0</td>\n",
       "      <td>0</td>\n",
       "      <td>0</td>\n",
       "      <td>0</td>\n",
       "      <td>...</td>\n",
       "      <td>0</td>\n",
       "      <td>0</td>\n",
       "      <td>0</td>\n",
       "      <td>3</td>\n",
       "      <td>0</td>\n",
       "      <td>0</td>\n",
       "      <td>2.0</td>\n",
       "      <td>0</td>\n",
       "      <td>0</td>\n",
       "      <td>0</td>\n",
       "    </tr>\n",
       "  </tbody>\n",
       "</table>\n",
       "<p>5 rows × 28 columns</p>\n",
       "</div>"
      ],
      "text/plain": [
       "   Passengerid   Age     Fare  Sex  sibsp  zero  zero.1  zero.2  zero.3   \n",
       "0            1  22.0   7.2500    0      1     0       0       0       0  \\\n",
       "1            2  38.0  71.2833    1      1     0       0       0       0   \n",
       "2            3  26.0   7.9250    1      0     0       0       0       0   \n",
       "3            4  35.0  53.1000    1      1     0       0       0       0   \n",
       "4            5  35.0   8.0500    0      0     0       0       0       0   \n",
       "\n",
       "   zero.4  ...  zero.12  zero.13  zero.14  Pclass  zero.15  zero.16  Embarked   \n",
       "0       0  ...        0        0        0       3        0        0       2.0  \\\n",
       "1       0  ...        0        0        0       1        0        0       0.0   \n",
       "2       0  ...        0        0        0       3        0        0       2.0   \n",
       "3       0  ...        0        0        0       1        0        0       2.0   \n",
       "4       0  ...        0        0        0       3        0        0       2.0   \n",
       "\n",
       "   zero.17  zero.18  2urvived  \n",
       "0        0        0         0  \n",
       "1        0        0         1  \n",
       "2        0        0         1  \n",
       "3        0        0         1  \n",
       "4        0        0         0  \n",
       "\n",
       "[5 rows x 28 columns]"
      ]
     },
     "execution_count": 141,
     "metadata": {},
     "output_type": "execute_result"
    }
   ],
   "source": [
    "validador.head()"
   ]
  },
  {
   "cell_type": "markdown",
   "id": "35a0f4be",
   "metadata": {},
   "source": [
    "### 3. Executando as Expectativas"
   ]
  },
  {
   "cell_type": "markdown",
   "id": "6a430083",
   "metadata": {},
   "source": [
    "3.1 Defina um Checkpoint e execute-o para receber os resultados do validator."
   ]
  },
  {
   "cell_type": "code",
   "execution_count": 142,
   "id": "2f49380a",
   "metadata": {},
   "outputs": [],
   "source": [
    "#Definir Checkpoint\n",
    "checkpoint = gx.checkpoint.SimpleCheckpoint(\n",
    "    name = \"my_quickstart_checkpoint\",\n",
    "    data_context = context,\n",
    "    validator = validador\n",
    ")"
   ]
  },
  {
   "cell_type": "code",
   "execution_count": 143,
   "id": "c1290a75",
   "metadata": {},
   "outputs": [
    {
     "data": {
      "application/vnd.jupyter.widget-view+json": {
       "model_id": "6a358196802046c28b4b8bdf93149cdb",
       "version_major": 2,
       "version_minor": 0
      },
      "text/plain": [
       "Calculating Metrics:   0%|          | 0/36 [00:00<?, ?it/s]"
      ]
     },
     "metadata": {},
     "output_type": "display_data"
    },
    {
     "name": "stderr",
     "output_type": "stream",
     "text": [
      "An unexpected Exception occurred during data docs rendering.  Because of this error, certain parts of data docs will not be rendered properly and/or may not appear altogether.  Please use the trace, included in this message, to diagnose and repair the underlying issue.  Detailed information follows:\n",
      "                TypeError: \"unhashable type: 'list'\".  Traceback: \"Traceback (most recent call last):\n",
      "  File \"c:\\Users\\wilha\\AppData\\Local\\Programs\\Python\\Python311\\Lib\\site-packages\\great_expectations\\render\\renderer\\site_builder.py\", line 474, in build\n",
      "    rendered_content = self.renderer_class.render(resource)\n",
      "                       ^^^^^^^^^^^^^^^^^^^^^^^^^^^^^^^^^^^^\n",
      "  File \"c:\\Users\\wilha\\AppData\\Local\\Programs\\Python\\Python311\\Lib\\site-packages\\great_expectations\\render\\renderer\\page_renderer.py\", line 109, in render\n",
      "    columns = self._group_evrs_by_column(validation_results, expectation_suite_name)\n",
      "              ^^^^^^^^^^^^^^^^^^^^^^^^^^^^^^^^^^^^^^^^^^^^^^^^^^^^^^^^^^^^^^^^^^^^^^\n",
      "  File \"c:\\Users\\wilha\\AppData\\Local\\Programs\\Python\\Python311\\Lib\\site-packages\\great_expectations\\render\\renderer\\page_renderer.py\", line 202, in _group_evrs_by_column\n",
      "    columns[column].append(evr)\n",
      "    ~~~~~~~^^^^^^^^\n",
      "TypeError: unhashable type: 'list'\n",
      "\".\n"
     ]
    }
   ],
   "source": [
    "#Validar resultado do checkpoint\n",
    "checkpoint_result = checkpoint.run()"
   ]
  },
  {
   "cell_type": "code",
   "execution_count": 144,
   "id": "f11c5f98",
   "metadata": {},
   "outputs": [
    {
     "name": "stderr",
     "output_type": "stream",
     "text": [
      "An unexpected Exception occurred during data docs rendering.  Because of this error, certain parts of data docs will not be rendered properly and/or may not appear altogether.  Please use the trace, included in this message, to diagnose and repair the underlying issue.  Detailed information follows:\n",
      "                TypeError: \"unhashable type: 'list'\".  Traceback: \"Traceback (most recent call last):\n",
      "  File \"c:\\Users\\wilha\\AppData\\Local\\Programs\\Python\\Python311\\Lib\\site-packages\\great_expectations\\render\\renderer\\site_builder.py\", line 474, in build\n",
      "    rendered_content = self.renderer_class.render(resource)\n",
      "                       ^^^^^^^^^^^^^^^^^^^^^^^^^^^^^^^^^^^^\n",
      "  File \"c:\\Users\\wilha\\AppData\\Local\\Programs\\Python\\Python311\\Lib\\site-packages\\great_expectations\\render\\renderer\\page_renderer.py\", line 109, in render\n",
      "    columns = self._group_evrs_by_column(validation_results, expectation_suite_name)\n",
      "              ^^^^^^^^^^^^^^^^^^^^^^^^^^^^^^^^^^^^^^^^^^^^^^^^^^^^^^^^^^^^^^^^^^^^^^\n",
      "  File \"c:\\Users\\wilha\\AppData\\Local\\Programs\\Python\\Python311\\Lib\\site-packages\\great_expectations\\render\\renderer\\page_renderer.py\", line 202, in _group_evrs_by_column\n",
      "    columns[column].append(evr)\n",
      "    ~~~~~~~^^^^^^^^\n",
      "TypeError: unhashable type: 'list'\n",
      "\".\n",
      "An unexpected Exception occurred during data docs rendering.  Because of this error, certain parts of data docs will not be rendered properly and/or may not appear altogether.  Please use the trace, included in this message, to diagnose and repair the underlying issue.  Detailed information follows:\n",
      "                TypeError: \"unhashable type: 'list'\".  Traceback: \"Traceback (most recent call last):\n",
      "  File \"c:\\Users\\wilha\\AppData\\Local\\Programs\\Python\\Python311\\Lib\\site-packages\\great_expectations\\render\\renderer\\site_builder.py\", line 474, in build\n",
      "    rendered_content = self.renderer_class.render(resource)\n",
      "                       ^^^^^^^^^^^^^^^^^^^^^^^^^^^^^^^^^^^^\n",
      "  File \"c:\\Users\\wilha\\AppData\\Local\\Programs\\Python\\Python311\\Lib\\site-packages\\great_expectations\\render\\renderer\\page_renderer.py\", line 109, in render\n",
      "    columns = self._group_evrs_by_column(validation_results, expectation_suite_name)\n",
      "              ^^^^^^^^^^^^^^^^^^^^^^^^^^^^^^^^^^^^^^^^^^^^^^^^^^^^^^^^^^^^^^^^^^^^^^\n",
      "  File \"c:\\Users\\wilha\\AppData\\Local\\Programs\\Python\\Python311\\Lib\\site-packages\\great_expectations\\render\\renderer\\page_renderer.py\", line 202, in _group_evrs_by_column\n",
      "    columns[column].append(evr)\n",
      "    ~~~~~~~^^^^^^^^\n",
      "TypeError: unhashable type: 'list'\n",
      "\".\n"
     ]
    },
    {
     "data": {
      "text/plain": [
       "{'local_site': 'file://c:\\\\WILLIAN\\\\2023\\\\ADA\\\\ED-NA-005 Analytics Engineering\\\\data_analytics_engineering-main\\\\great_expectations\\\\uncommitted\\\\data_docs\\\\local_site\\\\index.html'}"
      ]
     },
     "execution_count": 144,
     "metadata": {},
     "output_type": "execute_result"
    }
   ],
   "source": [
    "#Incluir informacoes no data doc\n",
    "context.build_data_docs()"
   ]
  },
  {
   "cell_type": "code",
   "execution_count": 145,
   "id": "9154666e",
   "metadata": {},
   "outputs": [],
   "source": [
    "#Abrir data doc\n",
    "context.open_data_docs()"
   ]
  },
  {
   "cell_type": "code",
   "execution_count": 146,
   "id": "68e279eb",
   "metadata": {},
   "outputs": [
    {
     "ename": "AttributeError",
     "evalue": "'FileDataContext' object has no attribute 'convert_to_file_context'",
     "output_type": "error",
     "traceback": [
      "\u001b[1;31m---------------------------------------------------------------------------\u001b[0m",
      "\u001b[1;31mAttributeError\u001b[0m                            Traceback (most recent call last)",
      "Cell \u001b[1;32mIn[146], line 1\u001b[0m\n\u001b[1;32m----> 1\u001b[0m context\u001b[39m.\u001b[39;49mconvert_to_file_context()\n",
      "\u001b[1;31mAttributeError\u001b[0m: 'FileDataContext' object has no attribute 'convert_to_file_context'"
     ]
    }
   ],
   "source": [
    "context.convert_to_file_context()"
   ]
  },
  {
   "cell_type": "code",
   "execution_count": null,
   "id": "cd76dd9a",
   "metadata": {},
   "outputs": [],
   "source": [
    "context"
   ]
  }
 ],
 "metadata": {
  "kernelspec": {
   "display_name": "Python 3",
   "language": "python",
   "name": "python3"
  },
  "language_info": {
   "codemirror_mode": {
    "name": "ipython",
    "version": 3
   },
   "file_extension": ".py",
   "mimetype": "text/x-python",
   "name": "python",
   "nbconvert_exporter": "python",
   "pygments_lexer": "ipython3",
   "version": "3.11.2"
  }
 },
 "nbformat": 4,
 "nbformat_minor": 5
}
