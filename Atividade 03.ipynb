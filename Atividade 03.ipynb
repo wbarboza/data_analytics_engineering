{
 "cells": [
  {
   "attachments": {},
   "cell_type": "markdown",
   "id": "ebfbea4e",
   "metadata": {},
   "source": [
    "# Atividade 3\n",
    "\n",
    "Faça tudo via dbt. \n",
    "\n",
    "Envia como resposta:\n",
    "- A query SQL\n",
    "- Comando utilizado via terminal no `dbt`\n",
    "- Um print do resultado no próprio notebook, para isso é necessário criar uma pasta no repositório onde serão armazenadas as imagens, e para inserir no notebook é necessário criar uma célula `markdown` e inserir o seguinte comando: \n",
    "\n",
    "```markdown\n",
    "![Nome da Foto](path/para/imagem)\n",
    "```"
   ]
  },
  {
   "attachments": {},
   "cell_type": "markdown",
   "id": "c0c42967",
   "metadata": {},
   "source": [
    "1. Crie uma tabela `orders_by_year` a partir de `orders` que agrupa a quantidade de pedidos por ano, considerando a coluna `order_approved_at`"
   ]
  },
  {
   "attachments": {},
   "cell_type": "markdown",
   "id": "43833d9e",
   "metadata": {},
   "source": [
    "``` sql\n",
    " {{ config(materialized='table') }}\n",
    "\n",
    "SELECT \n",
    "  COUNT(*) AS order_count, \n",
    "  EXTRACT(YEAR FROM order_approved_at) AS year \n",
    "FROM \n",
    "  `dbt-shop-willian.dbt_shop.orders` \n",
    "GROUP BY \n",
    "  year\n",
    "```"
   ]
  },
  {
   "attachments": {},
   "cell_type": "markdown",
   "id": "335f171c",
   "metadata": {},
   "source": [
    "    Comando terminal\n",
    "    \n",
    "``dbt run --models shop.orders_by_year`` "
   ]
  },
  {
   "attachments": {},
   "cell_type": "markdown",
   "id": "af3a12bc",
   "metadata": {},
   "source": [
    "![Questão 1](image_atividade3/questao1.png)"
   ]
  },
  {
   "attachments": {},
   "cell_type": "markdown",
   "id": "aa520524",
   "metadata": {},
   "source": [
    "2. Crie uma `view` que agrega os totais de pedidos por estado. Considere as tabelas _customers_ para obter os estados (coluna _customer_state_) e _orders_ para contabilizar a quantidade de pedidos."
   ]
  },
  {
   "attachments": {},
   "cell_type": "markdown",
   "id": "1352e558",
   "metadata": {},
   "source": [
    "```sql\n",
    "  {{ config(materialized='view') }}\n",
    "\n",
    "SELECT \n",
    "  count(*) as total_pedido, \n",
    "  c.customer_state as estado \n",
    "FROM \n",
    "  `dbt_shop.customers` c \n",
    "INNER JOIN `dbt_shop.orders` o \n",
    "  ON c.customer_id = o.customer_id \n",
    "GROUP BY\n",
    "  c.customer_state\n",
    "```"
   ]
  },
  {
   "attachments": {},
   "cell_type": "markdown",
   "id": "a7974bc7",
   "metadata": {},
   "source": [
    "    Comando terminal\n",
    "    \n",
    "``dbt run --models shop.total_orders`` "
   ]
  },
  {
   "attachments": {},
   "cell_type": "markdown",
   "id": "65b2fcdd",
   "metadata": {},
   "source": [
    "![Questão 2](image_atividade3/questao2.png)"
   ]
  },
  {
   "attachments": {},
   "cell_type": "markdown",
   "id": "54e0e5f1",
   "metadata": {},
   "source": [
    "3. De acordo com o resultado do exercício 2 retorne apenas os estados que tem mais de 5000 pedidos, esse número deve ser passado via variável `number_of_orders` do `dbt`."
   ]
  },
  {
   "attachments": {},
   "cell_type": "markdown",
   "id": "22c178c1",
   "metadata": {},
   "source": [
    "```sql\n",
    "{{ config(materialized='view') }}\n",
    "\n",
    "SELECT * FROM `dbt-shop-willian.dataset_willian.total_orders`\n",
    "WHERE total_pedido > {{ var(\"number_of_orders\") }}\n",
    "```\n"
   ]
  },
  {
   "attachments": {},
   "cell_type": "markdown",
   "id": "467f7d54",
   "metadata": {},
   "source": [
    "    Comando terminal\n",
    "    \n",
    "``dbt run --models shop.number_of_orders --vars \"{'number_of_orders': 5000}\"`` "
   ]
  },
  {
   "attachments": {},
   "cell_type": "markdown",
   "id": "0cb09eed",
   "metadata": {},
   "source": [
    "![Questão 3](image_atividade3/questao3.png)"
   ]
  },
  {
   "attachments": {},
   "cell_type": "markdown",
   "id": "9c3ad0cc",
   "metadata": {},
   "source": [
    "4. Crie uma `view` chamada `customers_by_region` que utiliza os dados da tabela `customers`. A visão deve realizar uma agregação por região do Brasil (Norte, Nordeste, Sudeste, Centro Oeste e Sul) e contar o número de clientes em cada uma delas."
   ]
  },
  {
   "attachments": {},
   "cell_type": "markdown",
   "id": "ca57ec14",
   "metadata": {},
   "source": [
    "```sql\n",
    "{{ config(materialized='view') }}\n",
    "\n",
    "SELECT \n",
    "  CASE \n",
    "    WHEN customer_state  IN ('AC', 'AM', 'AP', 'PA', 'RO', 'RR', 'TO') THEN 'Norte'\n",
    "    WHEN customer_state  IN ('MA', 'PI', 'CE', 'RN', 'PB', 'PE', 'AL', 'SE', 'BA') THEN 'Nordeste'\n",
    "    WHEN customer_state  IN ('MG', 'ES', 'RJ', 'SP') THEN 'Sudeste'\n",
    "    WHEN customer_state  IN ('PR', 'SC', 'RS') THEN 'Sul'\n",
    "    ELSE 'Outra região'\n",
    "  END AS regiao,\n",
    "  COUNT(*) AS cliente\n",
    "FROM `dbt-shop-willian.dbt_shop.customers`\n",
    "GROUP BY\n",
    " regiao\n",
    "\n",
    "```\n"
   ]
  },
  {
   "attachments": {},
   "cell_type": "markdown",
   "id": "574fac9c",
   "metadata": {},
   "source": [
    "    Comando terminal\n",
    "    \n",
    "``dbt run --models shop.customers_by_region`` "
   ]
  },
  {
   "attachments": {},
   "cell_type": "markdown",
   "id": "11a9f297",
   "metadata": {},
   "source": [
    "![Questão 4](image_atividade3/questao4_.png)"
   ]
  },
  {
   "attachments": {},
   "cell_type": "markdown",
   "id": "d4c16290",
   "metadata": {},
   "source": [
    "5. Crie uma tabela `items_costs` que contenha o preço total de um item (soma do valor do produto com o frete)."
   ]
  },
  {
   "attachments": {},
   "cell_type": "markdown",
   "id": "711724cc",
   "metadata": {},
   "source": [
    "```sql\n",
    "{{ config(materialized='table') }}  \n",
    "\n",
    "SELECT \n",
    "  product_id, \n",
    "  shipping_limit_date, \n",
    "  (price + freight_value) as preco_total \n",
    "FROM `dbt-shop-willian.dbt_shop.items` \n",
    "```"
   ]
  },
  {
   "attachments": {},
   "cell_type": "markdown",
   "id": "4cbaf98b",
   "metadata": {},
   "source": [
    "    Comando terminal\n",
    "    \n",
    "``dbt run --models shop.items_costs`` "
   ]
  },
  {
   "attachments": {},
   "cell_type": "markdown",
   "id": "41bb301b",
   "metadata": {},
   "source": [
    "![Questão 6](image_atividade3/questao5.png)"
   ]
  },
  {
   "attachments": {},
   "cell_type": "markdown",
   "id": "08cc4c02",
   "metadata": {},
   "source": [
    "6. Crie uma `view` com o nome `orders_shipped_costs`, você deve calcular o preço total do pedido somado com o frete, apenas para pedidos enviado (shipped)."
   ]
  },
  {
   "attachments": {},
   "cell_type": "markdown",
   "id": "fd11a986",
   "metadata": {},
   "source": [
    "```sql\n",
    "{{ config(materialized='view') }}\n",
    "\n",
    "SELECT \n",
    "  items.order_id,\n",
    "  orders.order_status,\n",
    "  (orders.val_total_pedido + items.freight_value) AS valor_total\n",
    "FROM \n",
    "  `dbt-shop-willian.dbt_shop.items` items \n",
    "  INNER JOIN (\n",
    "    SELECT\n",
    "      o.order_id, \n",
    "      o.order_status, \n",
    "      SUM(i.price) AS val_total_pedido\n",
    "    FROM \n",
    "      `dbt-shop-willian.dbt_shop.orders` o \n",
    "      INNER JOIN `dbt-shop-willian.dbt_shop.items` i \n",
    "        ON i.order_id = o.order_id \n",
    "    GROUP BY \n",
    "      o.order_id, \n",
    "      o.order_status   \n",
    "    HAVING \n",
    "      o.order_status = 'shipped'\n",
    "  ) orders \n",
    "    ON items.order_id = orders.order_id\n",
    "```"
   ]
  },
  {
   "attachments": {},
   "cell_type": "markdown",
   "id": "2c7e3cf9",
   "metadata": {},
   "source": [
    "    Comando terminal\n",
    "    \n",
    "``dbt run --models shop.orders_shipped_costs`` "
   ]
  },
  {
   "attachments": {},
   "cell_type": "markdown",
   "id": "e3896eaa",
   "metadata": {},
   "source": [
    "![Questao 6](image_atividade3/questao6.png)"
   ]
  }
 ],
 "metadata": {
  "kernelspec": {
   "display_name": "Python 3",
   "language": "python",
   "name": "python3"
  },
  "language_info": {
   "codemirror_mode": {
    "name": "ipython",
    "version": 3
   },
   "file_extension": ".py",
   "mimetype": "text/x-python",
   "name": "python",
   "nbconvert_exporter": "python",
   "pygments_lexer": "ipython3",
   "version": "3.9.1"
  }
 },
 "nbformat": 4,
 "nbformat_minor": 5
}
